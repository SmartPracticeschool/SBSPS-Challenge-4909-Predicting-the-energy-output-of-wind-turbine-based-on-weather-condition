{
    "cells": [
        {
            "cell_type": "markdown",
            "metadata": {},
            "source": "<a id=\"content\"></a>\n## Notebook content\n\nThis notebook contains steps and code to demonstrate AutoAI pipeline. This notebook introduces commands for getting data,  \npipeline model, model inspection and testing.\n\nSome familiarity with Python is helpful. This notebook uses Python 3."
        },
        {
            "cell_type": "markdown",
            "metadata": {
                "pycharm": {
                    "name": "#%% md\n"
                }
            },
            "source": "## Notebook goals\n\n-  inspection of trained pipeline via graphical vizualization and source code preview\n-  pipeline evaluation\n-  pipeline deployment and webservice scoring.\n\n## Contents\n\nThis notebook contains the following parts:\n\n1.\t[Setup](#setup)         \n    a.  [AutoAI experiment metadata](#variables_definition)      \n2.\t[Pipeline inspection](#inspection)      \n    a.  [Get historical optimizer instance](#get_hist_and_train)      \n    b.  [Get pipeline model](#get_pipeline)      \n    c.  [Preview pipeline model as python code](#preview_model_to_python_code)      \n    d.  [Visualize pipeline model](#visualize_pipeline)      \n    e.  [Read training and holdout data](#train_holdout_read)        \n    f.  [Test pipeline model locally](#test_model)       \n3.\t[Pipeline refinery and testing (optional)](#refinery)\n    a.  [Pipeline definition source code](#pipeline_definition)      \n    b.  [Lale library](#lale_library)      \n4.\t[Deploy and score](#scoring)       \n    a.  [Insert WML credentials](#wml_credentials)   \n    b.  [Create deployment](#deployment)      \n    c.  [Score webservice](#online_scoring)        \n    d.  [Delete deployment](#delete_deployment)       \n5.  [Authors](#authors)      "
        },
        {
            "cell_type": "markdown",
            "metadata": {},
            "source": "<a id=\"setup\"></a>\n# Setup\n\nBefore you use the sample code in this notebook, you must perform the following setup tasks:\n - `watson-machine-learning-client` uninstallation of the old client\n - `watson-machine-learning-client-V4` installation\n - `autoai-libs` installation/upgrade\n - `lightgbm` or `xgboost` installation/downgrade if they are needed"
        },
        {
            "cell_type": "code",
            "execution_count": 1,
            "metadata": {
                "pycharm": {
                    "name": "#%%\n"
                }
            },
            "outputs": [
                {
                    "name": "stdout",
                    "output_type": "stream",
                    "text": "Uninstalling watson-machine-learning-client-1.0.376:\n  Successfully uninstalled watson-machine-learning-client-1.0.376\n"
                }
            ],
            "source": "!pip uninstall watson-machine-learning-client -y"
        },
        {
            "cell_type": "code",
            "execution_count": 2,
            "metadata": {
                "pycharm": {
                    "is_executing": false,
                    "name": "#%%\n"
                }
            },
            "outputs": [
                {
                    "name": "stdout",
                    "output_type": "stream",
                    "text": "Collecting watson-machine-learning-client-V4\n\u001b[?25l  Downloading https://files.pythonhosted.org/packages/0d/3e/fa3273d20b8d2e2456b8dcc43188a9ec327588532450c291324eae4e1b7a/watson_machine_learning_client_V4-1.0.103-py3-none-any.whl (1.2MB)\n\u001b[K     |\u2588\u2588\u2588\u2588\u2588\u2588\u2588\u2588\u2588\u2588\u2588\u2588\u2588\u2588\u2588\u2588\u2588\u2588\u2588\u2588\u2588\u2588\u2588\u2588\u2588\u2588\u2588\u2588\u2588\u2588\u2588\u2588| 1.2MB 7.6MB/s eta 0:00:01\n\u001b[?25hRequirement already satisfied, skipping upgrade: requests in /opt/conda/envs/Python36/lib/python3.6/site-packages (from watson-machine-learning-client-V4) (2.21.0)\nRequirement already satisfied, skipping upgrade: pandas<=0.25.3 in /opt/conda/envs/Python36/lib/python3.6/site-packages (from watson-machine-learning-client-V4) (0.24.1)\nRequirement already satisfied, skipping upgrade: urllib3 in /opt/conda/envs/Python36/lib/python3.6/site-packages (from watson-machine-learning-client-V4) (1.24.1)\nRequirement already satisfied, skipping upgrade: lomond in /opt/conda/envs/Python36/lib/python3.6/site-packages (from watson-machine-learning-client-V4) (0.3.3)\nRequirement already satisfied, skipping upgrade: tabulate in /opt/conda/envs/Python36/lib/python3.6/site-packages (from watson-machine-learning-client-V4) (0.8.2)\nCollecting ibm-cos-sdk==2.6.0 (from watson-machine-learning-client-V4)\n\u001b[?25l  Downloading https://files.pythonhosted.org/packages/6f/91/86b2816c7b77d816b03a1ad6cf7db4b1f67556af395d5b93fdae6086c933/ibm-cos-sdk-2.6.0.tar.gz (53kB)\n\u001b[K     |\u2588\u2588\u2588\u2588\u2588\u2588\u2588\u2588\u2588\u2588\u2588\u2588\u2588\u2588\u2588\u2588\u2588\u2588\u2588\u2588\u2588\u2588\u2588\u2588\u2588\u2588\u2588\u2588\u2588\u2588\u2588\u2588| 61kB 26.9MB/s eta 0:00:01\n\u001b[?25hRequirement already satisfied, skipping upgrade: certifi in /opt/conda/envs/Python36/lib/python3.6/site-packages (from watson-machine-learning-client-V4) (2020.4.5.1)\nRequirement already satisfied, skipping upgrade: idna<2.9,>=2.5 in /opt/conda/envs/Python36/lib/python3.6/site-packages (from requests->watson-machine-learning-client-V4) (2.8)\nRequirement already satisfied, skipping upgrade: chardet<3.1.0,>=3.0.2 in /opt/conda/envs/Python36/lib/python3.6/site-packages (from requests->watson-machine-learning-client-V4) (3.0.4)\nRequirement already satisfied, skipping upgrade: python-dateutil>=2.5.0 in /opt/conda/envs/Python36/lib/python3.6/site-packages (from pandas<=0.25.3->watson-machine-learning-client-V4) (2.7.5)\nRequirement already satisfied, skipping upgrade: pytz>=2011k in /opt/conda/envs/Python36/lib/python3.6/site-packages (from pandas<=0.25.3->watson-machine-learning-client-V4) (2018.9)\nRequirement already satisfied, skipping upgrade: numpy>=1.12.0 in /opt/conda/envs/Python36/lib/python3.6/site-packages (from pandas<=0.25.3->watson-machine-learning-client-V4) (1.15.4)\nRequirement already satisfied, skipping upgrade: six>=1.10.0 in /opt/conda/envs/Python36/lib/python3.6/site-packages (from lomond->watson-machine-learning-client-V4) (1.12.0)\nCollecting ibm-cos-sdk-core==2.6.0 (from ibm-cos-sdk==2.6.0->watson-machine-learning-client-V4)\n\u001b[?25l  Downloading https://files.pythonhosted.org/packages/ea/c1/c823507c472bf88dbd045445df6850744111d34fd218c6ea3b9c9bde2cfe/ibm-cos-sdk-core-2.6.0.tar.gz (763kB)\n\u001b[K     |\u2588\u2588\u2588\u2588\u2588\u2588\u2588\u2588\u2588\u2588\u2588\u2588\u2588\u2588\u2588\u2588\u2588\u2588\u2588\u2588\u2588\u2588\u2588\u2588\u2588\u2588\u2588\u2588\u2588\u2588\u2588\u2588| 768kB 41.2MB/s eta 0:00:01\n\u001b[?25hCollecting ibm-cos-sdk-s3transfer==2.6.0 (from ibm-cos-sdk==2.6.0->watson-machine-learning-client-V4)\n\u001b[?25l  Downloading https://files.pythonhosted.org/packages/6f/92/682a28b99777a3fdc65e6d5641ed7e1ca470d0eab3bb2826cc30c6b60e21/ibm-cos-sdk-s3transfer-2.6.0.tar.gz (221kB)\n\u001b[K     |\u2588\u2588\u2588\u2588\u2588\u2588\u2588\u2588\u2588\u2588\u2588\u2588\u2588\u2588\u2588\u2588\u2588\u2588\u2588\u2588\u2588\u2588\u2588\u2588\u2588\u2588\u2588\u2588\u2588\u2588\u2588\u2588| 225kB 41.8MB/s eta 0:00:01\n\u001b[?25hRequirement already satisfied, skipping upgrade: jmespath<1.0.0,>=0.7.1 in /opt/conda/envs/Python36/lib/python3.6/site-packages (from ibm-cos-sdk==2.6.0->watson-machine-learning-client-V4) (0.9.3)\nRequirement already satisfied, skipping upgrade: docutils<0.16,>=0.10 in /opt/conda/envs/Python36/lib/python3.6/site-packages (from ibm-cos-sdk-core==2.6.0->ibm-cos-sdk==2.6.0->watson-machine-learning-client-V4) (0.14)\nBuilding wheels for collected packages: ibm-cos-sdk, ibm-cos-sdk-core, ibm-cos-sdk-s3transfer\n  Building wheel for ibm-cos-sdk (setup.py) ... \u001b[?25ldone\n\u001b[?25h  Stored in directory: /home/dsxuser/.cache/pip/wheels/37/9c/c4/a2c610ccb877d37c2cb87a5bfe55845fecffd6bb01bcd5e9d5\n  Building wheel for ibm-cos-sdk-core (setup.py) ... \u001b[?25ldone\n\u001b[?25h  Stored in directory: /home/dsxuser/.cache/pip/wheels/75/93/e6/23071b2c037147a0993d34b64a03e51abca84435fc9cd6a278\n  Building wheel for ibm-cos-sdk-s3transfer (setup.py) ... \u001b[?25ldone\n\u001b[?25h  Stored in directory: /home/dsxuser/.cache/pip/wheels/23/d9/d7/43fd95b014eed89466154d8373bf4cffbb3d972de7841e213c\nSuccessfully built ibm-cos-sdk ibm-cos-sdk-core ibm-cos-sdk-s3transfer\nInstalling collected packages: ibm-cos-sdk-core, ibm-cos-sdk-s3transfer, ibm-cos-sdk, watson-machine-learning-client-V4\n  Found existing installation: ibm-cos-sdk-core 2.4.3\n    Uninstalling ibm-cos-sdk-core-2.4.3:\n      Successfully uninstalled ibm-cos-sdk-core-2.4.3\n  Found existing installation: ibm-cos-sdk-s3transfer 2.4.3\n    Uninstalling ibm-cos-sdk-s3transfer-2.4.3:\n      Successfully uninstalled ibm-cos-sdk-s3transfer-2.4.3\n  Found existing installation: ibm-cos-sdk 2.4.3\n    Uninstalling ibm-cos-sdk-2.4.3:\n      Successfully uninstalled ibm-cos-sdk-2.4.3\nSuccessfully installed ibm-cos-sdk-2.6.0 ibm-cos-sdk-core-2.6.0 ibm-cos-sdk-s3transfer-2.6.0 watson-machine-learning-client-V4-1.0.103\n"
                }
            ],
            "source": "!pip install -U watson-machine-learning-client-V4"
        },
        {
            "cell_type": "code",
            "execution_count": 3,
            "metadata": {
                "pycharm": {
                    "name": "#%%\n"
                }
            },
            "outputs": [
                {
                    "name": "stdout",
                    "output_type": "stream",
                    "text": "Collecting autoai-libs\n\u001b[?25l  Downloading https://files.pythonhosted.org/packages/39/cb/4144b9ee74fcb058cea934478c87f2444cfa7b38a01396507f1a417030cb/autoai_libs-1.10.12-37-cp36-cp36m-manylinux1_x86_64.whl (4.3MB)\n\u001b[K     |\u2588\u2588\u2588\u2588\u2588\u2588\u2588\u2588\u2588\u2588\u2588\u2588\u2588\u2588\u2588\u2588\u2588\u2588\u2588\u2588\u2588\u2588\u2588\u2588\u2588\u2588\u2588\u2588\u2588\u2588\u2588\u2588| 4.3MB 7.7MB/s eta 0:00:01\n\u001b[?25hCollecting pandas<1.0.0,>=0.24.2 (from autoai-libs)\n\u001b[?25l  Downloading https://files.pythonhosted.org/packages/52/3f/f6a428599e0d4497e1595030965b5ba455fd8ade6e977e3c819973c4b41d/pandas-0.25.3-cp36-cp36m-manylinux1_x86_64.whl (10.4MB)\n\u001b[K     |\u2588\u2588\u2588\u2588\u2588\u2588\u2588\u2588\u2588\u2588\u2588\u2588\u2588\u2588\u2588\u2588\u2588\u2588\u2588\u2588\u2588\u2588\u2588\u2588\u2588\u2588\u2588\u2588\u2588\u2588\u2588\u2588| 10.4MB 43.7MB/s eta 0:00:01\u2588\u2588\u2588\u2588\u2588\u2588\u2588\u2588\u2588\u258c   | 9.3MB 43.7MB/s eta 0:00:01\n\u001b[?25hRequirement already satisfied, skipping upgrade: scikit-learn==0.20.3 in /opt/conda/envs/Python36/lib/python3.6/site-packages (from autoai-libs) (0.20.3)\nCollecting numpy>=1.16.4 (from autoai-libs)\n\u001b[?25l  Downloading https://files.pythonhosted.org/packages/93/0b/71ae818646c1a80fbe6776d41f480649523ed31243f1f34d9d7e41d70195/numpy-1.19.0-cp36-cp36m-manylinux2010_x86_64.whl (14.6MB)\n\u001b[K     |\u2588\u2588\u2588\u2588\u2588\u2588\u2588\u2588\u2588\u2588\u2588\u2588\u2588\u2588\u2588\u2588\u2588\u2588\u2588\u2588\u2588\u2588\u2588\u2588\u2588\u2588\u2588\u2588\u2588\u2588\u2588\u2588| 14.6MB 41.7MB/s eta 0:00:01\n\u001b[?25hCollecting category-encoders==2.1.0 (from autoai-libs)\n\u001b[?25l  Downloading https://files.pythonhosted.org/packages/a0/52/c54191ad3782de633ea3d6ee3bb2837bda0cf3bc97644bb6375cf14150a0/category_encoders-2.1.0-py2.py3-none-any.whl (100kB)\n\u001b[K     |\u2588\u2588\u2588\u2588\u2588\u2588\u2588\u2588\u2588\u2588\u2588\u2588\u2588\u2588\u2588\u2588\u2588\u2588\u2588\u2588\u2588\u2588\u2588\u2588\u2588\u2588\u2588\u2588\u2588\u2588\u2588\u2588| 102kB 32.0MB/s ta 0:00:01\n\u001b[?25hRequirement already satisfied, skipping upgrade: python-dateutil>=2.6.1 in /opt/conda/envs/Python36/lib/python3.6/site-packages (from pandas<1.0.0,>=0.24.2->autoai-libs) (2.7.5)\nRequirement already satisfied, skipping upgrade: pytz>=2017.2 in /opt/conda/envs/Python36/lib/python3.6/site-packages (from pandas<1.0.0,>=0.24.2->autoai-libs) (2018.9)\nRequirement already satisfied, skipping upgrade: scipy>=0.13.3 in /opt/conda/envs/Python36/lib/python3.6/site-packages (from scikit-learn==0.20.3->autoai-libs) (1.2.0)\nRequirement already satisfied, skipping upgrade: statsmodels>=0.6.1 in /opt/conda/envs/Python36/lib/python3.6/site-packages (from category-encoders==2.1.0->autoai-libs) (0.9.0)\nRequirement already satisfied, skipping upgrade: patsy>=0.4.1 in /opt/conda/envs/Python36/lib/python3.6/site-packages (from category-encoders==2.1.0->autoai-libs) (0.5.1)\nRequirement already satisfied, skipping upgrade: six>=1.5 in /opt/conda/envs/Python36/lib/python3.6/site-packages (from python-dateutil>=2.6.1->pandas<1.0.0,>=0.24.2->autoai-libs) (1.12.0)\n\u001b[31mERROR: tensorflow 1.13.1 requires tensorboard<1.14.0,>=1.13.0, which is not installed.\u001b[0m\nInstalling collected packages: numpy, pandas, category-encoders, autoai-libs\n  Found existing installation: numpy 1.15.4\n    Uninstalling numpy-1.15.4:\n      Successfully uninstalled numpy-1.15.4\n  Found existing installation: pandas 0.24.1\n    Uninstalling pandas-0.24.1:\n      Successfully uninstalled pandas-0.24.1\n  Found existing installation: category-encoders 2.0.0\n    Uninstalling category-encoders-2.0.0:\n      Successfully uninstalled category-encoders-2.0.0\n  Found existing installation: autoai-libs 1.10.5\n    Uninstalling autoai-libs-1.10.5:\n      Successfully uninstalled autoai-libs-1.10.5\nSuccessfully installed autoai-libs-1.10.12 category-encoders-2.1.0 numpy-1.19.0 pandas-0.25.3\nCollecting xgboost==0.90\n\u001b[?25l  Downloading https://files.pythonhosted.org/packages/c1/24/5fe7237b2eca13ee0cfb100bec8c23f4e69ce9df852a64b0493d49dae4e0/xgboost-0.90-py2.py3-none-manylinux1_x86_64.whl (142.8MB)\n\u001b[K     |\u2588\u2588\u2588\u2588\u2588\u2588\u2588\u2588\u2588\u2588\u2588\u2588\u2588\u2588\u2588\u2588\u2588\u2588\u2588\u2588\u2588\u2588\u2588\u2588\u2588\u2588\u2588\u2588\u2588\u2588\u2588\u2588| 142.8MB 284kB/s  eta 0:00:01     |\u2588\u2588\u2588\u2588\u2588\u2588\u2588\u2588\u2588\u2588\u2588\u2588\u2588\u2588\u2588\u2588\u2588\u2588\u2588\u2588\u2588\u2588\u2588\u2588\u2588\u2588\u2588\u2588\u258c   | 127.0MB 51.5MB/s eta 0:00:01\n\u001b[?25hRequirement already satisfied, skipping upgrade: scipy in /opt/conda/envs/Python36/lib/python3.6/site-packages (from xgboost==0.90) (1.2.0)\nRequirement already satisfied, skipping upgrade: numpy in /opt/conda/envs/Python36/lib/python3.6/site-packages (from xgboost==0.90) (1.19.0)\nInstalling collected packages: xgboost\nSuccessfully installed xgboost-0.90\n"
                }
            ],
            "source": "!pip install -U autoai-libs\n!pip install -U xgboost==0.90"
        },
        {
            "cell_type": "markdown",
            "metadata": {},
            "source": "<a id=\"variables_definition\"></a>\n### AutoAI experiment metadata\n\nThis cell defines COS credentials required to retrieve AutoAI pipeline."
        },
        {
            "cell_type": "code",
            "execution_count": 4,
            "metadata": {
                "pycharm": {
                    "name": "#%%\n"
                }
            },
            "outputs": [],
            "source": "# The code was removed by Watson Studio for sharing."
        },
        {
            "cell_type": "markdown",
            "metadata": {},
            "source": "Following cell contains input parameters provided to run the AutoAI experiment in Watson Studio"
        },
        {
            "cell_type": "code",
            "execution_count": 5,
            "metadata": {
                "pycharm": {
                    "name": "#%%\n"
                }
            },
            "outputs": [],
            "source": "experiment_metadata = dict(\n   prediction_type='regression',\n   prediction_column='LV ActivePower (kW)',\n   test_size=0.1,\n   scoring='neg_root_mean_squared_error',\n   csv_separator=',',\n   excel_sheet=0,\n   max_number_of_estimators=2,\n   training_data_reference = training_data_reference,\n   training_result_reference = training_result_reference)\n\npipeline_name='Pipeline_4'"
        },
        {
            "cell_type": "markdown",
            "metadata": {
                "pycharm": {
                    "name": "#%% md\n"
                }
            },
            "source": "<a id=\"inspection\"></a>\n## Pipeline inspection\nIn this section you will get the trained pipeline model from the AutoAI experiment and inspect it.  \nYou will see pipeline as a pythone code, graphically visualized and at the end, you will perform a local test.\n"
        },
        {
            "cell_type": "markdown",
            "metadata": {
                "pycharm": {
                    "name": "#%% md\n"
                }
            },
            "source": "<a id=\"get_hist_and_train\"></a>\n### Get historical optimizer instance\n\nThe next cell contains code for retrieving fitted optimizer."
        },
        {
            "cell_type": "code",
            "execution_count": 6,
            "metadata": {
                "pycharm": {
                    "is_executing": false,
                    "name": "#%%\n"
                }
            },
            "outputs": [
                {
                    "name": "stdout",
                    "output_type": "stream",
                    "text": "Warning: To use AutoAI with lightgbm estimators, you need to have lightgbm 2.2.3 installed.\n"
                }
            ],
            "source": "from watson_machine_learning_client.experiment import AutoAI\n\noptimizer = AutoAI().runs.get_optimizer(metadata=experiment_metadata)"
        },
        {
            "cell_type": "markdown",
            "metadata": {
                "pycharm": {
                    "name": "#%% md\n"
                }
            },
            "source": "<a id=\"get_pipeline\"></a>\n### Get pipeline model\n\nThe following cell loads selected AutoAI pipeline model. If you want to get pure scikit-learn pipeline specify `as_type='sklearn'` parameter. By default enriched scikit-learn pipeline is returned `as_type='lale'`."
        },
        {
            "cell_type": "code",
            "execution_count": 7,
            "metadata": {
                "pycharm": {
                    "is_executing": false,
                    "name": "#%%\n"
                }
            },
            "outputs": [
                {
                    "name": "stdout",
                    "output_type": "stream",
                    "text": "[04:12:34] WARNING: /workspace/src/objective/regression_obj.cu:152: reg:linear is now deprecated in favor of reg:squarederror.\n"
                }
            ],
            "source": "pipeline_model = optimizer.get_pipeline(pipeline_name=pipeline_name)"
        },
        {
            "cell_type": "markdown",
            "metadata": {
                "pycharm": {
                    "name": "#%% md\n"
                }
            },
            "source": "<a id=\"preview_model_to_python_code\"></a>\n### Preview pipeline model as python code\nIn the next cell, downloaded pipeline model could be previewed as a python code.  \nYou will be able to see what exact steps are involved in model creation."
        },
        {
            "cell_type": "code",
            "execution_count": 8,
            "metadata": {
                "pycharm": {
                    "name": "#%%\n"
                }
            },
            "outputs": [
                {
                    "data": {
                        "text/markdown": "```python\nfrom autoai_libs.transformers.exportable import ColumnSelector\nfrom lale.lib.autoai_libs import NumpyColumnSelector\nfrom lale.lib.autoai_libs import FloatStr2Float\nfrom lale.lib.autoai_libs import NumpyReplaceMissingValues\nfrom lale.lib.autoai_libs import NumImputer\nfrom lale.lib.autoai_libs import OptStandardScaler\nfrom lale.lib.autoai_libs import float32_transform\nfrom lale.lib.autoai_libs import TNoOp\nfrom xgboost import XGBRegressor\nfrom lale.operators import make_pipeline\n\ncolumn_selector = ColumnSelector(columns_indices_list=[1, 2, 3])\nnumpy_column_selector = NumpyColumnSelector(columns=[0, 1, 2])\nfloat_str2_float = FloatStr2Float(dtypes_list=['float_num', 'float_num', 'float_num'], missing_values_reference_list=[])\nnumpy_replace_missing_values = NumpyReplaceMissingValues(filling_values=float('nan'), missing_values=[])\nnum_imputer = NumImputer(missing_values=float('nan'), strategy='median')\nopt_standard_scaler = OptStandardScaler(num_scaler_copy=None, num_scaler_with_mean=None, num_scaler_with_std=None, use_scaler_flag=False)\nt_no_op = TNoOp(name='no_action', datatypes='x', feat_constraints=[])\nxgb_regressor = XGBRegressor(gamma=0.005463972762012136, learning_rate=0.020646653697296034, min_child_weight=4, missing=float('nan'), n_estimators=1374, n_jobs=2, random_state=33, reg_alpha=0.15726291585838856, reg_lambda=0.1, silent=True, subsample=0.9760130894800576, verbosity=0)\npipeline = make_pipeline(column_selector, numpy_column_selector, float_str2_float, numpy_replace_missing_values, num_imputer, opt_standard_scaler, float32_transform(), t_no_op, xgb_regressor)\n```",
                        "text/plain": "<IPython.core.display.Markdown object>"
                    },
                    "metadata": {},
                    "output_type": "display_data"
                }
            ],
            "source": "pipeline_model.pretty_print(combinators=False, ipython_display=True)"
        },
        {
            "cell_type": "markdown",
            "metadata": {
                "pycharm": {
                    "name": "#%% md\n"
                }
            },
            "source": "<a id=\"visualize_pipeline\"></a>\n### Visualize pipeline model\n\nPreview pipeline model stages as graph. Each node's name links to detailed description of the stage.\n"
        },
        {
            "cell_type": "code",
            "execution_count": 9,
            "metadata": {
                "pycharm": {
                    "is_executing": false,
                    "name": "#%%\n"
                }
            },
            "outputs": [
                {
                    "data": {
                        "image/svg+xml": "<?xml version=\"1.0\" encoding=\"UTF-8\" standalone=\"no\"?>\n<!DOCTYPE svg PUBLIC \"-//W3C//DTD SVG 1.1//EN\"\n \"http://www.w3.org/Graphics/SVG/1.1/DTD/svg11.dtd\">\n<!-- Generated by graphviz version 2.40.1 (20161225.0304)\n -->\n<!-- Title: cluster:(root) Pages: 1 -->\n<svg width=\"993pt\" height=\"82pt\"\n viewBox=\"0.00 0.00 993.47 81.54\" xmlns=\"http://www.w3.org/2000/svg\" xmlns:xlink=\"http://www.w3.org/1999/xlink\">\n<g id=\"graph0\" class=\"graph\" transform=\"scale(1 1) rotate(0) translate(4 77.5391)\">\n<title>cluster:(root)</title>\n<g id=\"a_graph0\"><a xlink:title=\"(root) = ...\">\n<polygon fill=\"#ffffff\" stroke=\"transparent\" points=\"-4,4 -4,-77.5391 989.4672,-77.5391 989.4672,4 -4,4\"/>\n</a>\n</g>\n<!-- column_selector -->\n<g id=\"node1\" class=\"node\">\n<title>column_selector</title>\n<g id=\"a_node1\"><a xlink:title=\"column_selector = ColumnSelector(columns_indices_list=[1, 2, 3])\">\n<ellipse fill=\"#ffffff\" stroke=\"#000000\" cx=\"39.598\" cy=\"-36.7696\" rx=\"39.6962\" ry=\"19.6\"/>\n<text text-anchor=\"middle\" x=\"39.598\" y=\"-39.9696\" font-family=\"Times,serif\" font-size=\"11.00\" fill=\"#000000\">Column&#45;</text>\n<text text-anchor=\"middle\" x=\"39.598\" y=\"-27.9696\" font-family=\"Times,serif\" font-size=\"11.00\" fill=\"#000000\">Selector</text>\n</a>\n</g>\n</g>\n<!-- numpy_column_selector -->\n<g id=\"node2\" class=\"node\">\n<title>numpy_column_selector</title>\n<g id=\"a_node2\"><a xlink:href=\"https://lale.readthedocs.io/en/latest/modules/lale.lib.autoai_libs.numpy_column_selector.html\" xlink:title=\"numpy_column_selector = NumpyColumnSelector(columns=[0, 1, 2])\">\n<ellipse fill=\"#ffffff\" stroke=\"#000000\" cx=\"154.7939\" cy=\"-36.7696\" rx=\"39.6962\" ry=\"28.0702\"/>\n<text text-anchor=\"middle\" x=\"154.7939\" y=\"-45.9696\" font-family=\"Times,serif\" font-size=\"11.00\" fill=\"#000000\">Numpy&#45;</text>\n<text text-anchor=\"middle\" x=\"154.7939\" y=\"-33.9696\" font-family=\"Times,serif\" font-size=\"11.00\" fill=\"#000000\">Column&#45;</text>\n<text text-anchor=\"middle\" x=\"154.7939\" y=\"-21.9696\" font-family=\"Times,serif\" font-size=\"11.00\" fill=\"#000000\">Selector</text>\n</a>\n</g>\n</g>\n<!-- column_selector&#45;&gt;numpy_column_selector -->\n<g id=\"edge1\" class=\"edge\">\n<title>column_selector&#45;&gt;numpy_column_selector</title>\n<path fill=\"none\" stroke=\"#000000\" d=\"M79.2419,-36.7696C87.4778,-36.7696 96.258,-36.7696 104.8101,-36.7696\"/>\n<polygon fill=\"#000000\" stroke=\"#000000\" points=\"105.077,-40.2697 115.077,-36.7696 105.0769,-33.2697 105.077,-40.2697\"/>\n</g>\n<!-- float_str2_float -->\n<g id=\"node3\" class=\"node\">\n<title>float_str2_float</title>\n<g id=\"a_node3\"><a xlink:href=\"https://lale.readthedocs.io/en/latest/modules/lale.lib.autoai_libs.float_str2_float.html\" xlink:title=\"float_str2_float = FloatStr2Float(dtypes_list=[&#39;float_num&#39;, &#39;float_num&#39;, &#39;float_num&#39;], missing_values_reference_list=[])\">\n<ellipse fill=\"#ffffff\" stroke=\"#000000\" cx=\"258.6762\" cy=\"-36.7696\" rx=\"28.0702\" ry=\"28.0702\"/>\n<text text-anchor=\"middle\" x=\"258.6762\" y=\"-45.9696\" font-family=\"Times,serif\" font-size=\"11.00\" fill=\"#000000\">Float&#45;</text>\n<text text-anchor=\"middle\" x=\"258.6762\" y=\"-33.9696\" font-family=\"Times,serif\" font-size=\"11.00\" fill=\"#000000\">Str2&#45;</text>\n<text text-anchor=\"middle\" x=\"258.6762\" y=\"-21.9696\" font-family=\"Times,serif\" font-size=\"11.00\" fill=\"#000000\">Float</text>\n</a>\n</g>\n</g>\n<!-- numpy_column_selector&#45;&gt;float_str2_float -->\n<g id=\"edge2\" class=\"edge\">\n<title>numpy_column_selector&#45;&gt;float_str2_float</title>\n<path fill=\"none\" stroke=\"#000000\" d=\"M194.6604,-36.7696C203.0285,-36.7696 211.8392,-36.7696 220.1569,-36.7696\"/>\n<polygon fill=\"#000000\" stroke=\"#000000\" points=\"220.3586,-40.2697 230.3585,-36.7696 220.3585,-33.2697 220.3586,-40.2697\"/>\n</g>\n<!-- numpy_replace_missing_values -->\n<g id=\"node4\" class=\"node\">\n<title>numpy_replace_missing_values</title>\n<g id=\"a_node4\"><a xlink:href=\"https://lale.readthedocs.io/en/latest/modules/lale.lib.autoai_libs.numpy_replace_missing_values.html\" xlink:title=\"numpy_replace_missing_values = NumpyReplaceMissingValues(filling_values=float(&#39;nan&#39;), missing_values=[])\">\n<ellipse fill=\"#ffffff\" stroke=\"#000000\" cx=\"362.5584\" cy=\"-36.7696\" rx=\"39.6962\" ry=\"36.5405\"/>\n<text text-anchor=\"middle\" x=\"362.5584\" y=\"-51.9696\" font-family=\"Times,serif\" font-size=\"11.00\" fill=\"#000000\">Numpy&#45;</text>\n<text text-anchor=\"middle\" x=\"362.5584\" y=\"-39.9696\" font-family=\"Times,serif\" font-size=\"11.00\" fill=\"#000000\">Replace&#45;</text>\n<text text-anchor=\"middle\" x=\"362.5584\" y=\"-27.9696\" font-family=\"Times,serif\" font-size=\"11.00\" fill=\"#000000\">Missing&#45;</text>\n<text text-anchor=\"middle\" x=\"362.5584\" y=\"-15.9696\" font-family=\"Times,serif\" font-size=\"11.00\" fill=\"#000000\">Values</text>\n</a>\n</g>\n</g>\n<!-- float_str2_float&#45;&gt;numpy_replace_missing_values -->\n<g id=\"edge3\" class=\"edge\">\n<title>float_str2_float&#45;&gt;numpy_replace_missing_values</title>\n<path fill=\"none\" stroke=\"#000000\" d=\"M287.0625,-36.7696C295.0072,-36.7696 303.8847,-36.7696 312.683,-36.7696\"/>\n<polygon fill=\"#000000\" stroke=\"#000000\" points=\"312.9146,-40.2697 322.9145,-36.7696 312.9145,-33.2697 312.9146,-40.2697\"/>\n</g>\n<!-- num_imputer -->\n<g id=\"node5\" class=\"node\">\n<title>num_imputer</title>\n<g id=\"a_node5\"><a xlink:href=\"https://lale.readthedocs.io/en/latest/modules/lale.lib.autoai_libs.num_imputer.html\" xlink:title=\"num_imputer = NumImputer(missing_values=float(&#39;nan&#39;), strategy=&#39;median&#39;)\">\n<ellipse fill=\"#ffffff\" stroke=\"#000000\" cx=\"476.3402\" cy=\"-36.7696\" rx=\"38.3684\" ry=\"19.6\"/>\n<text text-anchor=\"middle\" x=\"476.3402\" y=\"-39.9696\" font-family=\"Times,serif\" font-size=\"11.00\" fill=\"#000000\">Num&#45;</text>\n<text text-anchor=\"middle\" x=\"476.3402\" y=\"-27.9696\" font-family=\"Times,serif\" font-size=\"11.00\" fill=\"#000000\">Imputer</text>\n</a>\n</g>\n</g>\n<!-- numpy_replace_missing_values&#45;&gt;num_imputer -->\n<g id=\"edge4\" class=\"edge\">\n<title>numpy_replace_missing_values&#45;&gt;num_imputer</title>\n<path fill=\"none\" stroke=\"#000000\" d=\"M402.3538,-36.7696C410.5546,-36.7696 419.2779,-36.7696 427.7502,-36.7696\"/>\n<polygon fill=\"#000000\" stroke=\"#000000\" points=\"427.9082,-40.2697 437.9081,-36.7696 427.9081,-33.2697 427.9082,-40.2697\"/>\n</g>\n<!-- opt_standard_scaler -->\n<g id=\"node6\" class=\"node\">\n<title>opt_standard_scaler</title>\n<g id=\"a_node6\"><a xlink:href=\"https://lale.readthedocs.io/en/latest/modules/lale.lib.autoai_libs.opt_standard_scaler.html\" xlink:title=\"opt_standard_scaler = OptStandardScaler(num_scaler_copy=None, num_scaler_with_mean=None, num_scaler_with_std=None, use_scaler_flag=False)\">\n<ellipse fill=\"#ffffff\" stroke=\"#000000\" cx=\"596.4859\" cy=\"-36.7696\" rx=\"45.9239\" ry=\"28.0702\"/>\n<text text-anchor=\"middle\" x=\"596.4859\" y=\"-45.9696\" font-family=\"Times,serif\" font-size=\"11.00\" fill=\"#000000\">Opt&#45;</text>\n<text text-anchor=\"middle\" x=\"596.4859\" y=\"-33.9696\" font-family=\"Times,serif\" font-size=\"11.00\" fill=\"#000000\">Standard&#45;</text>\n<text text-anchor=\"middle\" x=\"596.4859\" y=\"-21.9696\" font-family=\"Times,serif\" font-size=\"11.00\" fill=\"#000000\">Scaler</text>\n</a>\n</g>\n</g>\n<!-- num_imputer&#45;&gt;opt_standard_scaler -->\n<g id=\"edge5\" class=\"edge\">\n<title>num_imputer&#45;&gt;opt_standard_scaler</title>\n<path fill=\"none\" stroke=\"#000000\" d=\"M514.6854,-36.7696C522.7804,-36.7696 531.4838,-36.7696 540.0864,-36.7696\"/>\n<polygon fill=\"#000000\" stroke=\"#000000\" points=\"540.0962,-40.2697 550.0962,-36.7696 540.0962,-33.2697 540.0962,-40.2697\"/>\n</g>\n<!-- float32_transform -->\n<g id=\"node7\" class=\"node\">\n<title>float32_transform</title>\n<g id=\"a_node7\"><a xlink:href=\"https://lale.readthedocs.io/en/latest/modules/lale.lib.autoai_libs.float32_transform.html\" xlink:title=\"float32_transform = float32_transform()\">\n<ellipse fill=\"#ffffff\" stroke=\"#000000\" cx=\"723.7027\" cy=\"-36.7696\" rx=\"45.011\" ry=\"19.6\"/>\n<text text-anchor=\"middle\" x=\"723.7027\" y=\"-39.9696\" font-family=\"Times,serif\" font-size=\"11.00\" fill=\"#000000\">float32_&#45;</text>\n<text text-anchor=\"middle\" x=\"723.7027\" y=\"-27.9696\" font-family=\"Times,serif\" font-size=\"11.00\" fill=\"#000000\">transform</text>\n</a>\n</g>\n</g>\n<!-- opt_standard_scaler&#45;&gt;float32_transform -->\n<g id=\"edge6\" class=\"edge\">\n<title>opt_standard_scaler&#45;&gt;float32_transform</title>\n<path fill=\"none\" stroke=\"#000000\" d=\"M642.7739,-36.7696C650.9562,-36.7696 659.5523,-36.7696 667.9622,-36.7696\"/>\n<polygon fill=\"#000000\" stroke=\"#000000\" points=\"668.0876,-40.2697 678.0875,-36.7696 668.0875,-33.2697 668.0876,-40.2697\"/>\n</g>\n<!-- t_no_op -->\n<g id=\"node8\" class=\"node\">\n<title>t_no_op</title>\n<g id=\"a_node8\"><a xlink:href=\"https://lale.readthedocs.io/en/latest/modules/lale.lib.autoai_libs.t_no_op.html\" xlink:title=\"t_no_op = TNoOp(name=&#39;no_action&#39;, datatypes=&#39;x&#39;, feat_constraints=[])\">\n<ellipse fill=\"#ffffff\" stroke=\"#000000\" cx=\"831.9575\" cy=\"-36.7696\" rx=\"27\" ry=\"28.0702\"/>\n<text text-anchor=\"middle\" x=\"831.9575\" y=\"-45.9696\" font-family=\"Times,serif\" font-size=\"11.00\" fill=\"#000000\">T&#45;</text>\n<text text-anchor=\"middle\" x=\"831.9575\" y=\"-33.9696\" font-family=\"Times,serif\" font-size=\"11.00\" fill=\"#000000\">No&#45;</text>\n<text text-anchor=\"middle\" x=\"831.9575\" y=\"-21.9696\" font-family=\"Times,serif\" font-size=\"11.00\" fill=\"#000000\">Op</text>\n</a>\n</g>\n</g>\n<!-- float32_transform&#45;&gt;t_no_op -->\n<g id=\"edge7\" class=\"edge\">\n<title>float32_transform&#45;&gt;t_no_op</title>\n<path fill=\"none\" stroke=\"#000000\" d=\"M768.9852,-36.7696C777.5402,-36.7696 786.3982,-36.7696 794.673,-36.7696\"/>\n<polygon fill=\"#000000\" stroke=\"#000000\" points=\"794.7756,-40.2697 804.7756,-36.7696 794.7756,-33.2697 794.7756,-40.2697\"/>\n</g>\n<!-- xgb_regressor -->\n<g id=\"node9\" class=\"node\">\n<title>xgb_regressor</title>\n<g id=\"a_node9\"><a xlink:title=\"xgb_regressor = XGBRegressor(gamma=0.005463972762012136, learning_rate=0.020646653697296034, min_child_weight=4, missing=float(&#39;nan&#39;), n_estimators=1374, n_jobs=2, random_state=33, reg_alpha=0.15726291585838856, reg_lambda=0.1, silent=True, subsample=0.9760130894800576, verbosity=0)\">\n<ellipse fill=\"#ffffff\" stroke=\"#000000\" cx=\"940.2123\" cy=\"-36.7696\" rx=\"45.011\" ry=\"19.6\"/>\n<text text-anchor=\"middle\" x=\"940.2123\" y=\"-39.9696\" font-family=\"Times,serif\" font-size=\"11.00\" fill=\"#000000\">XGB&#45;</text>\n<text text-anchor=\"middle\" x=\"940.2123\" y=\"-27.9696\" font-family=\"Times,serif\" font-size=\"11.00\" fill=\"#000000\">Regressor</text>\n</a>\n</g>\n</g>\n<!-- t_no_op&#45;&gt;xgb_regressor -->\n<g id=\"edge8\" class=\"edge\">\n<title>t_no_op&#45;&gt;xgb_regressor</title>\n<path fill=\"none\" stroke=\"#000000\" d=\"M858.9955,-36.7696C866.8218,-36.7696 875.666,-36.7696 884.5651,-36.7696\"/>\n<polygon fill=\"#000000\" stroke=\"#000000\" points=\"884.5845,-40.2697 894.5844,-36.7696 884.5844,-33.2697 884.5845,-40.2697\"/>\n</g>\n</g>\n</svg>\n",
                        "text/plain": "<graphviz.dot.Digraph at 0x7f29b04275c0>"
                    },
                    "metadata": {},
                    "output_type": "display_data"
                }
            ],
            "source": "pipeline_model.visualize()"
        },
        {
            "cell_type": "markdown",
            "metadata": {
                "pycharm": {
                    "name": "#%% md\n"
                }
            },
            "source": "<a id=\"train_holdout_read\"></a>\n### Read training and holdout data\n\nRetrieve training dataset from AutoAI experiment as pandas DataFrame."
        },
        {
            "cell_type": "code",
            "execution_count": 10,
            "metadata": {
                "pycharm": {
                    "name": "#%%\n"
                }
            },
            "outputs": [],
            "source": "training_df, holdout_df = optimizer.get_data_connections()[0].read(with_holdout_split=True)\n\ntrain_X = training_df.drop([experiment_metadata['prediction_column']], axis=1).values\ntrain_y = training_df[experiment_metadata['prediction_column']].values\n\ntest_X = holdout_df.drop([experiment_metadata['prediction_column']], axis=1).values\ny_true = holdout_df[experiment_metadata['prediction_column']].values"
        },
        {
            "cell_type": "markdown",
            "metadata": {
                "pycharm": {
                    "name": "#%% md\n"
                }
            },
            "source": "<a id=\"test_model\"></a>\n### Test pipeline model locally\n**Note**: you can chose the metric to evaluate the model by your own, this example contains only a basic scenario."
        },
        {
            "cell_type": "code",
            "execution_count": 11,
            "metadata": {
                "pycharm": {
                    "name": "#%%\n"
                }
            },
            "outputs": [
                {
                    "name": "stdout",
                    "output_type": "stream",
                    "text": "r2_score:  0.9275604148044272\n"
                }
            ],
            "source": "from sklearn.metrics import r2_score\n\npredictions = pipeline_model.predict(test_X)\nscore = r2_score(y_true=y_true, y_pred=predictions)\nprint('r2_score: ', score)"
        },
        {
            "cell_type": "markdown",
            "metadata": {
                "pycharm": {
                    "name": "#%% md\n"
                }
            },
            "source": "<a id=\"scoring\"></a>\n## Deploy and Score\n\nIn this section you will learn how to deploy and score pipeline model as webservice using WML instance."
        },
        {
            "cell_type": "markdown",
            "metadata": {},
            "source": "<a id=\"wml_credentials\"></a>\n### Connect to WML client in order to create deployment\n**Action:** Next you will need credentials for Watson Machine Learning and training run_id:\n - go to [Cloud catalog resources list](https://cloud.ibm.com/resources)\n - click on Services and chose Machine Learning service. Once you are there\n - click the **Service Credentials** link on the left side of the screen\n - click to expand specific credentials name.\n - copy and paste your WML credentials into the cell below\n\n*Take in mind that WML Service instance should be the same as used to generate this notebook.*"
        },
        {
            "cell_type": "code",
            "execution_count": 12,
            "metadata": {
                "pycharm": {
                    "name": "#%%\n"
                }
            },
            "outputs": [],
            "source": "wml_credentials = {\n  \"apikey\": \"7wQ88zDvFNwL0LqNVd0pSYhxZAEbnYbt-RsKJpXFE64h\",\n  \"iam_apikey_description\": \"Auto-generated for key 8fd42b26-16cc-46a7-a758-2fd0b3e8ddf5\",\n  \"iam_apikey_name\": \"Service credentials-2\",\n  \"iam_role_crn\": \"crn:v1:bluemix:public:iam::::serviceRole:Writer\",\n  \"iam_serviceid_crn\": \"crn:v1:bluemix:public:iam-identity::a/c66c20bcff91488bbd4a6d17ecdb501e::serviceid:ServiceId-7bf3d94a-7219-4bed-b1c9-19a59d84a258\",\n  \"instance_id\": \"961035e2-1351-4c15-a06c-fb277abdd7f0\",\n  \"url\": \"https://eu-gb.ml.cloud.ibm.com\"\n}"
        },
        {
            "cell_type": "markdown",
            "metadata": {},
            "source": "<a id=\"deployment\"></a>\n### Create deployment\n\n**Action**: If you want to deploy refined pipeline please change the `pipeline_model` to `new_pipeline`.\n \nIf you prefer you can also change the `deployment_name`."
        },
        {
            "cell_type": "code",
            "execution_count": 13,
            "metadata": {
                "pycharm": {
                    "name": "#%%\n"
                }
            },
            "outputs": [
                {
                    "name": "stdout",
                    "output_type": "stream",
                    "text": "Preparing an AutoAI Deployment...\n[04:17:49] WARNING: /workspace/src/objective/regression_obj.cu:152: reg:linear is now deprecated in favor of reg:squarederror.\nPublished model uid: 4c44764d-2595-4fb3-978e-c1681e7c080d\nDeploying model 4c44764d-2595-4fb3-978e-c1681e7c080d using V4 client.\n\n\n#######################################################################################\n\nSynchronous deployment creation for uid: '4c44764d-2595-4fb3-978e-c1681e7c080d' started\n\n#######################################################################################\n\n\ninitializing.......\nready\n\n\n------------------------------------------------------------------------------------------------\nSuccessfully finished deployment creation, deployment_uid='f58d24d5-30be-4aed-8eab-a3cc6bc5d354'\n------------------------------------------------------------------------------------------------\n\n\n"
                }
            ],
            "source": "from watson_machine_learning_client.deployment import WebService\n\nservice = WebService(wml_credentials)\n\nservice.create(\n    model=pipeline_model,\n    metadata=experiment_metadata,\n    deployment_name=f'{pipeline_name}_webservice'\n)"
        },
        {
            "cell_type": "markdown",
            "metadata": {},
            "source": "Deployment object could be printed to show basic information:"
        },
        {
            "cell_type": "code",
            "execution_count": 14,
            "metadata": {
                "pycharm": {
                    "name": "#%%\n"
                }
            },
            "outputs": [
                {
                    "name": "stdout",
                    "output_type": "stream",
                    "text": "name: Pipeline_4_webservice, id: f58d24d5-30be-4aed-8eab-a3cc6bc5d354, scoring_url: https://eu-gb.ml.cloud.ibm.com/v4/deployments/f58d24d5-30be-4aed-8eab-a3cc6bc5d354/predictions, asset_id: 4c44764d-2595-4fb3-978e-c1681e7c080d\n"
                }
            ],
            "source": "print(service)"
        },
        {
            "cell_type": "markdown",
            "metadata": {},
            "source": "To be able to show all available information about deployment use `.get_params()` method:"
        },
        {
            "cell_type": "code",
            "execution_count": 15,
            "metadata": {
                "pycharm": {
                    "name": "#%%\n"
                }
            },
            "outputs": [
                {
                    "data": {
                        "text/plain": "{'entity': {'asset': {'href': '/v4/models/4c44764d-2595-4fb3-978e-c1681e7c080d?rev=8cb0b6ba-dfdf-461c-b5fb-a7c56e4a57ea',\n   'id': '4c44764d-2595-4fb3-978e-c1681e7c080d',\n   'rev': '8cb0b6ba-dfdf-461c-b5fb-a7c56e4a57ea'},\n  'custom': {},\n  'description': '',\n  'name': 'Pipeline_4_webservice',\n  'online': {},\n  'status': {'online_url': {'url': 'https://eu-gb.ml.cloud.ibm.com/v4/deployments/f58d24d5-30be-4aed-8eab-a3cc6bc5d354/predictions'},\n   'state': 'ready'}},\n 'metadata': {'created_at': '2020-06-24T04:18:01.472Z',\n  'description': '',\n  'guid': 'f58d24d5-30be-4aed-8eab-a3cc6bc5d354',\n  'href': '/v4/deployments/f58d24d5-30be-4aed-8eab-a3cc6bc5d354',\n  'id': 'f58d24d5-30be-4aed-8eab-a3cc6bc5d354',\n  'modified_at': '2020-06-24T04:18:01.472Z',\n  'name': 'Pipeline_4_webservice',\n  'parent': {'href': ''}}}"
                    },
                    "execution_count": 15,
                    "metadata": {},
                    "output_type": "execute_result"
                }
            ],
            "source": "service.get_params()"
        },
        {
            "cell_type": "markdown",
            "metadata": {
                "pycharm": {
                    "name": "#%% md\n"
                }
            },
            "source": "<a id=\"online_scoring\"></a>\n### Score webservice\nYou can make scoring request by calling `score()` on deployed pipeline."
        },
        {
            "cell_type": "code",
            "execution_count": 16,
            "metadata": {
                "pycharm": {
                    "name": "#%%\n"
                }
            },
            "outputs": [
                {
                    "data": {
                        "text/plain": "{'predictions': [{'fields': ['prediction'],\n   'values': [[3314.6689453125],\n    [9.199421882629395],\n    [3449.915771484375],\n    [2197.9228515625],\n    [2619.97509765625],\n    [1340.8221435546875],\n    [2882.51123046875],\n    [92.50337982177734],\n    [624.8418579101562],\n    [9.199421882629395]]}]}"
                    },
                    "execution_count": 16,
                    "metadata": {},
                    "output_type": "execute_result"
                }
            ],
            "source": "predictions = service.score(payload=holdout_df.drop([experiment_metadata['prediction_column']], axis=1).iloc[:10])\npredictions"
        }
    ],
    "metadata": {
        "kernelspec": {
            "display_name": "Python 3.6",
            "language": "python",
            "name": "python3"
        },
        "language_info": {
            "codemirror_mode": {
                "name": "ipython",
                "version": 3
            },
            "file_extension": ".py",
            "mimetype": "text/x-python",
            "name": "python",
            "nbconvert_exporter": "python",
            "pygments_lexer": "ipython3",
            "version": "3.6.9"
        }
    },
    "nbformat": 4,
    "nbformat_minor": 2
}