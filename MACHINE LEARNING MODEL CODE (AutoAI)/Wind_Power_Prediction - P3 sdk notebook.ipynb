{
 "cells": [
  {
   "cell_type": "markdown",
   "metadata": {},
   "source": [
    "<a id=\"variables_definition\"></a>\n",
    "### AutoAI experiment metadata\n",
    "\n",
    "This cell defines COS credentials required to retrieve AutoAI pipeline."
   ]
  },
  {
   "cell_type": "code",
   "execution_count": null,
   "metadata": {
    "pycharm": {
     "name": "#%%\n"
    }
   },
   "outputs": [],
   "source": [
    "# @hidden_cell\n",
    "from watson_machine_learning_client.helpers import DataConnection, S3Connection, S3Location\n",
    "\n",
    "training_data_reference = [DataConnection(\n",
    "    connection=S3Connection(\n",
    "        api_key='HIKpoCjs15zuWYgV63-oYUx-kDfh1tDj3NMh0TU48Yee',\n",
    "        auth_endpoint='https://iam.bluemix.net/oidc/token/',\n",
    "        endpoint_url='https://s3.eu-geo.objectstorage.softlayer.net'\n",
    "    ),\n",
    "        location=S3Location(\n",
    "        bucket='ibmhackchallenge-donotdelete-pr-ndw4lepdllxldp',\n",
    "        path='integrated_data.csv'\n",
    "    ))\n",
    "]\n",
    "training_result_reference = DataConnection(\n",
    "    connection=S3Connection(\n",
    "        api_key='HIKpoCjs15zuWYgV63-oYUx-kDfh1tDj3NMh0TU48Yee',\n",
    "        auth_endpoint='https://iam.bluemix.net/oidc/token/',\n",
    "        endpoint_url='https://s3.eu-geo.objectstorage.softlayer.net'\n",
    "    ),\n",
    "    location=S3Location(\n",
    "        bucket='ibmhackchallenge-donotdelete-pr-ndw4lepdllxldp',\n",
    "        path='auto_ml/1e6c5239-3d3e-443c-87eb-c11d538c88ba/wml_data/45d9c58d-8b75-4434-8820-8b74d8c7a706/data/automl',\n",
    "        model_location='auto_ml/1e6c5239-3d3e-443c-87eb-c11d538c88ba/wml_data/45d9c58d-8b75-4434-8820-8b74d8c7a706/data/automl/cognito_output/Pipeline1/model.pickle',\n",
    "        training_status='auto_ml/1e6c5239-3d3e-443c-87eb-c11d538c88ba/wml_data/45d9c58d-8b75-4434-8820-8b74d8c7a706/training-status.json'\n",
    "    ))"
   ]
  },
  {
   "cell_type": "markdown",
   "metadata": {},
   "source": [
    "Following cell contains input parameters provided to run the AutoAI experiment in Watson Studio"
   ]
  },
  {
   "cell_type": "code",
   "execution_count": null,
   "metadata": {
    "pycharm": {
     "name": "#%%\n"
    }
   },
   "outputs": [],
   "source": [
    "experiment_metadata = dict(\n",
    "   prediction_type='regression',\n",
    "   prediction_column='Theoretical_Power_Curve (KWh)',\n",
    "   test_size=0.1,\n",
    "   scoring='neg_root_mean_squared_error',\n",
    "   csv_separator=',',\n",
    "   excel_sheet=0,\n",
    "   max_number_of_estimators=2,\n",
    "   training_data_reference = training_data_reference,\n",
    "   training_result_reference = training_result_reference)\n",
    "\n",
    "pipeline_name='Pipeline_3'"
   ]
  },
  {
   "cell_type": "markdown",
   "metadata": {
    "pycharm": {
     "name": "#%% md\n"
    }
   },
   "source": [
    "<a id=\"inspection\"></a>\n",
    "## Pipeline inspection\n",
    "In this section you will get the trained pipeline model from the AutoAI experiment and inspect it.  \n",
    "You will see pipeline as a pythone code, graphically visualized and at the end, you will perform a local test.\n"
   ]
  },
  {
   "cell_type": "markdown",
   "metadata": {
    "pycharm": {
     "name": "#%% md\n"
    }
   },
   "source": [
    "<a id=\"get_hist_and_train\"></a>\n",
    "### Get historical optimizer instance\n",
    "\n",
    "The next cell contains code for retrieving fitted optimizer."
   ]
  },
  {
   "cell_type": "code",
   "execution_count": null,
   "metadata": {
    "pycharm": {
     "is_executing": false,
     "name": "#%%\n"
    }
   },
   "outputs": [],
   "source": [
    "from watson_machine_learning_client.experiment import AutoAI\n",
    "\n",
    "optimizer = AutoAI().runs.get_optimizer(metadata=experiment_metadata)"
   ]
  },
  {
   "cell_type": "markdown",
   "metadata": {
    "pycharm": {
     "name": "#%% md\n"
    }
   },
   "source": [
    "<a id=\"get_pipeline\"></a>\n",
    "### Get pipeline model\n",
    "\n",
    "The following cell loads selected AutoAI pipeline model. If you want to get pure scikit-learn pipeline specify `as_type='sklearn'` parameter. By default enriched scikit-learn pipeline is returned `as_type='lale'`."
   ]
  },
  {
   "cell_type": "code",
   "execution_count": null,
   "metadata": {
    "pycharm": {
     "is_executing": false,
     "name": "#%%\n"
    }
   },
   "outputs": [],
   "source": [
    "pipeline_model = optimizer.get_pipeline(pipeline_name=pipeline_name)"
   ]
  },
  {
   "cell_type": "markdown",
   "metadata": {
    "pycharm": {
     "name": "#%% md\n"
    }
   },
   "source": [
    "<a id=\"preview_model_to_python_code\"></a>\n",
    "### Preview pipeline model as python code\n",
    "In the next cell, downloaded pipeline model could be previewed as a python code.  \n",
    "You will be able to see what exact steps are involved in model creation."
   ]
  },
  {
   "cell_type": "code",
   "execution_count": null,
   "metadata": {
    "pycharm": {
     "name": "#%%\n"
    }
   },
   "outputs": [],
   "source": [
    "pipeline_model.pretty_print(combinators=False, ipython_display=True)"
   ]
  },
  {
   "cell_type": "markdown",
   "metadata": {
    "pycharm": {
     "name": "#%% md\n"
    }
   },
   "source": [
    "<a id=\"visualize_pipeline\"></a>\n",
    "### Visualize pipeline model\n",
    "\n",
    "Preview pipeline model stages as graph. Each node's name links to detailed description of the stage.\n"
   ]
  },
  {
   "cell_type": "code",
   "execution_count": null,
   "metadata": {
    "pycharm": {
     "is_executing": false,
     "name": "#%%\n"
    }
   },
   "outputs": [],
   "source": [
    "pipeline_model.visualize()"
   ]
  },
  {
   "cell_type": "markdown",
   "metadata": {
    "pycharm": {
     "name": "#%% md\n"
    }
   },
   "source": [
    "<a id=\"train_holdout_read\"></a>\n",
    "### Read training and holdout data\n",
    "\n",
    "Retrieve training dataset from AutoAI experiment as pandas DataFrame."
   ]
  },
  {
   "cell_type": "code",
   "execution_count": null,
   "metadata": {
    "pycharm": {
     "name": "#%%\n"
    }
   },
   "outputs": [],
   "source": [
    "training_df, holdout_df = optimizer.get_data_connections()[0].read(with_holdout_split=True)\n",
    "\n",
    "train_X = training_df.drop([experiment_metadata['prediction_column']], axis=1).values\n",
    "train_y = training_df[experiment_metadata['prediction_column']].values\n",
    "\n",
    "test_X = holdout_df.drop([experiment_metadata['prediction_column']], axis=1).values\n",
    "y_true = holdout_df[experiment_metadata['prediction_column']].values"
   ]
  },
  {
   "cell_type": "markdown",
   "metadata": {
    "pycharm": {
     "name": "#%% md\n"
    }
   },
   "source": [
    "<a id=\"test_model\"></a>\n",
    "### Test pipeline model locally\n",
    "**Note**: you can chose the metric to evaluate the model by your own, this example contains only a basic scenario."
   ]
  },
  {
   "cell_type": "code",
   "execution_count": null,
   "metadata": {
    "pycharm": {
     "name": "#%%\n"
    }
   },
   "outputs": [],
   "source": [
    "from sklearn.metrics import r2_score\n",
    "\n",
    "predictions = pipeline_model.predict(test_X)\n",
    "score = r2_score(y_true=y_true, y_pred=predictions)\n",
    "print('r2_score: ', score)"
   ]
  },
  {
   "cell_type": "markdown",
   "metadata": {
    "pycharm": {
     "name": "#%% md\n"
    }
   },
   "source": [
    "<a id=\"scoring\"></a>\n",
    "## Deploy and Score\n",
    "\n",
    "In this section you will learn how to deploy and score pipeline model as webservice using WML instance."
   ]
  },
  {
   "cell_type": "code",
   "execution_count": null,
   "metadata": {
    "pycharm": {
     "name": "#%%\n"
    }
   },
   "outputs": [],
   "source": [
    "wml_credentials = {\n",
    "  \n",
    "}"
   ]
  },
  {
   "cell_type": "code",
   "execution_count": null,
   "metadata": {
    "pycharm": {
     "name": "#%%\n"
    }
   },
   "outputs": [],
   "source": [
    "from watson_machine_learning_client.deployment import WebService\n",
    "\n",
    "service = WebService(wml_credentials)\n",
    "\n",
    "service.create(\n",
    "    model=pipeline_model,\n",
    "    metadata=experiment_metadata,\n",
    "    deployment_name=f'{pipeline_name}_webservice'\n",
    ")"
   ]
  },
  {
   "cell_type": "markdown",
   "metadata": {},
   "source": [
    "Deployment object could be printed to show basic information:"
   ]
  },
  {
   "cell_type": "code",
   "execution_count": null,
   "metadata": {
    "pycharm": {
     "name": "#%%\n"
    }
   },
   "outputs": [],
   "source": [
    "print(service)"
   ]
  },
  {
   "cell_type": "markdown",
   "metadata": {},
   "source": [
    "To be able to show all available information about deployment use `.get_params()` method:"
   ]
  },
  {
   "cell_type": "code",
   "execution_count": null,
   "metadata": {
    "pycharm": {
     "name": "#%%\n"
    }
   },
   "outputs": [],
   "source": [
    "service.get_params()"
   ]
  },
  {
   "cell_type": "markdown",
   "metadata": {
    "pycharm": {
     "name": "#%% md\n"
    }
   },
   "source": [
    "<a id=\"online_scoring\"></a>\n",
    "### Score webservice\n",
    "You can make scoring request by calling `score()` on deployed pipeline."
   ]
  },
  {
   "cell_type": "code",
   "execution_count": null,
   "metadata": {
    "pycharm": {
     "name": "#%%\n"
    }
   },
   "outputs": [],
   "source": [
    "predictions = service.score(payload=holdout_df.drop([experiment_metadata['prediction_column']], axis=1).iloc[:10])\n",
    "predictions"
   ]
  }
 ],
 "metadata": {
  "kernelspec": {
   "display_name": "Python 3",
   "language": "python",
   "name": "python3"
  },
  "language_info": {
   "codemirror_mode": {
    "name": "ipython",
    "version": 3
   },
   "file_extension": ".py",
   "mimetype": "text/x-python",
   "name": "python",
   "nbconvert_exporter": "python",
   "pygments_lexer": "ipython3",
   "version": "3.7.6"
  }
 },
 "nbformat": 4,
 "nbformat_minor": 2
}
